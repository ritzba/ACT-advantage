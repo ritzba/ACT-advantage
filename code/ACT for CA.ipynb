{
 "cells": [
  {
   "cell_type": "code",
   "execution_count": 1,
   "id": "3c4ddf80-29e5-4682-b768-7d82d438ec4e",
   "metadata": {},
   "outputs": [],
   "source": [
    "import numpy as np\n",
    "import pandas as pd\n",
    "import matplotlib.pyplot as plt\n",
    "import seaborn as sns"
   ]
  },
  {
   "cell_type": "markdown",
   "id": "bca30ba6-31de-440f-94f1-4fe525992d6b",
   "metadata": {},
   "source": [
    "## Why Should I Take the ACT?"
   ]
  },
  {
   "cell_type": "code",
   "execution_count": null,
   "id": "fcff9fa4-cf8f-4b26-8d7e-12a26afd26e9",
   "metadata": {},
   "outputs": [],
   "source": []
  },
  {
   "cell_type": "code",
   "execution_count": null,
   "id": "93585dd6-92bd-401f-bb29-b9a2d79742e1",
   "metadata": {},
   "outputs": [],
   "source": []
  },
  {
   "cell_type": "code",
   "execution_count": null,
   "id": "43e24179-ef2b-4764-b553-e9c47a89c589",
   "metadata": {},
   "outputs": [],
   "source": []
  },
  {
   "cell_type": "code",
   "execution_count": null,
   "id": "e3c3260a-8307-47ce-93af-6018ecddcead",
   "metadata": {},
   "outputs": [],
   "source": []
  },
  {
   "cell_type": "code",
   "execution_count": null,
   "id": "c79da90f-cd80-4b74-bcbe-e8cb0361c17d",
   "metadata": {},
   "outputs": [],
   "source": []
  },
  {
   "cell_type": "code",
   "execution_count": null,
   "id": "fbc576b0-9351-4377-a3ef-57baf16412d6",
   "metadata": {},
   "outputs": [],
   "source": []
  },
  {
   "cell_type": "code",
   "execution_count": 2,
   "id": "efc657c1-5e4f-44d7-adf4-5d6cfd2fbf3e",
   "metadata": {},
   "outputs": [],
   "source": [
    "colleges = pd.read_csv('../data/sat_act_by_college.csv')"
   ]
  },
  {
   "cell_type": "markdown",
   "id": "126fac16-8d5c-4f66-ae4a-11275d96fa3f",
   "metadata": {},
   "source": [
    "# CA Performance on Both Tests"
   ]
  },
  {
   "cell_type": "code",
   "execution_count": null,
   "id": "11595045-8825-402e-a472-1f9aedd00520",
   "metadata": {},
   "outputs": [],
   "source": []
  },
  {
   "cell_type": "code",
   "execution_count": null,
   "id": "b7f7d52f-85d1-4c7d-a571-b8dcef5a7bc3",
   "metadata": {},
   "outputs": [],
   "source": []
  },
  {
   "cell_type": "code",
   "execution_count": null,
   "id": "bb0cb78c-0f3a-444b-807f-1695377c9700",
   "metadata": {},
   "outputs": [],
   "source": []
  },
  {
   "cell_type": "code",
   "execution_count": null,
   "id": "5fbacbc0-cccb-44f3-a1d3-80590754acc7",
   "metadata": {},
   "outputs": [],
   "source": []
  },
  {
   "cell_type": "code",
   "execution_count": null,
   "id": "666441f5-3133-40b2-89fe-5529811fd76e",
   "metadata": {},
   "outputs": [],
   "source": []
  },
  {
   "cell_type": "code",
   "execution_count": 3,
   "id": "18eba387-4a19-48bc-a212-beda8ebb1a44",
   "metadata": {},
   "outputs": [],
   "source": [
    "ca_sat = pd.read_csv('../data/SAT_2019_ca.csv')\n",
    "ca_act = pd.read_csv('../data/act_2019_ca.csv')"
   ]
  },
  {
   "cell_type": "code",
   "execution_count": 4,
   "id": "777ec086-ff23-42dd-a45b-90d62b61f8f4",
   "metadata": {},
   "outputs": [
    {
     "name": "stdout",
     "output_type": "stream",
     "text": [
      "<class 'pandas.core.frame.DataFrame'>\n",
      "RangeIndex: 2580 entries, 0 to 2579\n",
      "Data columns (total 26 columns):\n",
      " #   Column                 Non-Null Count  Dtype  \n",
      "---  ------                 --------------  -----  \n",
      " 0   CDS                    2579 non-null   float64\n",
      " 1   CCode                  2579 non-null   float64\n",
      " 2   CDCode                 2579 non-null   float64\n",
      " 3   SCode                  2579 non-null   float64\n",
      " 4   RType                  2579 non-null   object \n",
      " 5   SName                  1982 non-null   object \n",
      " 6   DName                  2521 non-null   object \n",
      " 7   CName                  2579 non-null   object \n",
      " 8   Enroll12               2579 non-null   float64\n",
      " 9   NumTSTTakr12           2579 non-null   float64\n",
      " 10  NumERWBenchmark12      2304 non-null   object \n",
      " 11  PctERWBenchmark12      2304 non-null   object \n",
      " 12  NumMathBenchmark12     2304 non-null   object \n",
      " 13  PctMathBenchmark12     2304 non-null   object \n",
      " 14  Enroll11               2579 non-null   float64\n",
      " 15  NumTSTTakr11           2579 non-null   float64\n",
      " 16  NumERWBenchmark11      2269 non-null   object \n",
      " 17  PctERWBenchmark11      2269 non-null   object \n",
      " 18  NumMathBenchmark11     2269 non-null   object \n",
      " 19  PctMathBenchmark11     2269 non-null   object \n",
      " 20  TotNumBothBenchmark12  2304 non-null   object \n",
      " 21  PctBothBenchmark12     2304 non-null   object \n",
      " 22  TotNumBothBenchmark11  2269 non-null   object \n",
      " 23  PctBothBenchmark11     2269 non-null   object \n",
      " 24  Year                   2579 non-null   object \n",
      " 25  Unnamed: 25            0 non-null      float64\n",
      "dtypes: float64(9), object(17)\n",
      "memory usage: 524.2+ KB\n",
      "<class 'pandas.core.frame.DataFrame'>\n",
      "RangeIndex: 2310 entries, 0 to 2309\n",
      "Data columns (total 18 columns):\n",
      " #   Column       Non-Null Count  Dtype  \n",
      "---  ------       --------------  -----  \n",
      " 0   CDS          2309 non-null   float64\n",
      " 1   CCode        2309 non-null   float64\n",
      " 2   CDCode       2309 non-null   float64\n",
      " 3   SCode        1787 non-null   float64\n",
      " 4   RType        2309 non-null   object \n",
      " 5   SName        1729 non-null   object \n",
      " 6   DName        2251 non-null   object \n",
      " 7   CName        2309 non-null   object \n",
      " 8   Enroll12     2309 non-null   float64\n",
      " 9   NumTstTakr   2309 non-null   float64\n",
      " 10  AvgScrRead   1953 non-null   object \n",
      " 11  AvgScrEng    1953 non-null   object \n",
      " 12  AvgScrMath   1953 non-null   object \n",
      " 13  AvgScrSci    1953 non-null   object \n",
      " 14  NumGE21      1953 non-null   object \n",
      " 15  PctGE21      1953 non-null   object \n",
      " 16  Year         2309 non-null   object \n",
      " 17  Unnamed: 17  0 non-null      float64\n",
      "dtypes: float64(7), object(11)\n",
      "memory usage: 325.0+ KB\n"
     ]
    }
   ],
   "source": [
    "ca_sat.info()\n",
    "ca_act.info()"
   ]
  },
  {
   "cell_type": "code",
   "execution_count": 5,
   "id": "137e83c8-cb16-41c9-8f17-f74e7128c063",
   "metadata": {},
   "outputs": [],
   "source": [
    "ca_sat = ca_sat[['SCode','Enroll12','NumTSTTakr12','TotNumBothBenchmark12','PctBothBenchmark12']]"
   ]
  },
  {
   "cell_type": "code",
   "execution_count": 6,
   "id": "97080ee5-a015-4f72-bfeb-e6a1e9941775",
   "metadata": {},
   "outputs": [],
   "source": [
    "ca_act = ca_act[['SCode','Enroll12','NumTstTakr','NumGE21','PctGE21']]"
   ]
  },
  {
   "cell_type": "code",
   "execution_count": 7,
   "id": "4e666626-9baa-4685-9b95-dd45753ed491",
   "metadata": {},
   "outputs": [],
   "source": [
    "ca = pd.merge(ca_sat,ca_act,how='left',on='SCode',suffixes=['sat','act'])"
   ]
  },
  {
   "cell_type": "code",
   "execution_count": 8,
   "id": "b80708d3-c472-46af-a1f8-8bfcdeae9587",
   "metadata": {},
   "outputs": [
    {
     "name": "stdout",
     "output_type": "stream",
     "text": [
      "<class 'pandas.core.frame.DataFrame'>\n",
      "Int64Index: 37786 entries, 0 to 37785\n",
      "Data columns (total 9 columns):\n",
      " #   Column                 Non-Null Count  Dtype  \n",
      "---  ------                 --------------  -----  \n",
      " 0   SCode                  37263 non-null  float64\n",
      " 1   Enroll12sat            37263 non-null  float64\n",
      " 2   NumTSTTakr12           37263 non-null  float64\n",
      " 3   TotNumBothBenchmark12  34726 non-null  object \n",
      " 4   PctBothBenchmark12     34726 non-null  object \n",
      " 5   Enroll12act            37523 non-null  float64\n",
      " 6   NumTstTakr             37523 non-null  float64\n",
      " 7   NumGE21                36570 non-null  object \n",
      " 8   PctGE21                36570 non-null  object \n",
      "dtypes: float64(5), object(4)\n",
      "memory usage: 2.9+ MB\n"
     ]
    }
   ],
   "source": [
    "ca.info()"
   ]
  },
  {
   "cell_type": "code",
   "execution_count": 9,
   "id": "3a6ae609-9f10-4a0c-a4ca-a7844f9c2013",
   "metadata": {},
   "outputs": [
    {
     "data": {
      "text/html": [
       "<div>\n",
       "<style scoped>\n",
       "    .dataframe tbody tr th:only-of-type {\n",
       "        vertical-align: middle;\n",
       "    }\n",
       "\n",
       "    .dataframe tbody tr th {\n",
       "        vertical-align: top;\n",
       "    }\n",
       "\n",
       "    .dataframe thead th {\n",
       "        text-align: right;\n",
       "    }\n",
       "</style>\n",
       "<table border=\"1\" class=\"dataframe\">\n",
       "  <thead>\n",
       "    <tr style=\"text-align: right;\">\n",
       "      <th></th>\n",
       "      <th>SCode</th>\n",
       "      <th>Enroll12sat</th>\n",
       "      <th>NumTSTTakr12</th>\n",
       "      <th>TotNumBothBenchmark12</th>\n",
       "      <th>PctBothBenchmark12</th>\n",
       "      <th>Enroll12act</th>\n",
       "      <th>NumTstTakr</th>\n",
       "      <th>NumGE21</th>\n",
       "      <th>PctGE21</th>\n",
       "    </tr>\n",
       "  </thead>\n",
       "  <tbody>\n",
       "    <tr>\n",
       "      <th>0</th>\n",
       "      <td>630046.0</td>\n",
       "      <td>18.0</td>\n",
       "      <td>0.0</td>\n",
       "      <td>NaN</td>\n",
       "      <td>NaN</td>\n",
       "      <td>18.0</td>\n",
       "      <td>0.0</td>\n",
       "      <td>NaN</td>\n",
       "      <td>NaN</td>\n",
       "    </tr>\n",
       "    <tr>\n",
       "      <th>1</th>\n",
       "      <td>634758.0</td>\n",
       "      <td>29.0</td>\n",
       "      <td>10.0</td>\n",
       "      <td>*</td>\n",
       "      <td>*</td>\n",
       "      <td>29.0</td>\n",
       "      <td>0.0</td>\n",
       "      <td>NaN</td>\n",
       "      <td>NaN</td>\n",
       "    </tr>\n",
       "    <tr>\n",
       "      <th>2</th>\n",
       "      <td>1930924.0</td>\n",
       "      <td>206.0</td>\n",
       "      <td>102.0</td>\n",
       "      <td>14</td>\n",
       "      <td>13.73</td>\n",
       "      <td>206.0</td>\n",
       "      <td>31.0</td>\n",
       "      <td>4</td>\n",
       "      <td>12.90</td>\n",
       "    </tr>\n",
       "    <tr>\n",
       "      <th>3</th>\n",
       "      <td>1931476.0</td>\n",
       "      <td>227.0</td>\n",
       "      <td>113.0</td>\n",
       "      <td>18</td>\n",
       "      <td>15.93</td>\n",
       "      <td>227.0</td>\n",
       "      <td>32.0</td>\n",
       "      <td>9</td>\n",
       "      <td>28.13</td>\n",
       "    </tr>\n",
       "    <tr>\n",
       "      <th>4</th>\n",
       "      <td>1931856.0</td>\n",
       "      <td>18.0</td>\n",
       "      <td>14.0</td>\n",
       "      <td>*</td>\n",
       "      <td>*</td>\n",
       "      <td>18.0</td>\n",
       "      <td>1.0</td>\n",
       "      <td>*</td>\n",
       "      <td>*</td>\n",
       "    </tr>\n",
       "    <tr>\n",
       "      <th>...</th>\n",
       "      <td>...</td>\n",
       "      <td>...</td>\n",
       "      <td>...</td>\n",
       "      <td>...</td>\n",
       "      <td>...</td>\n",
       "      <td>...</td>\n",
       "      <td>...</td>\n",
       "      <td>...</td>\n",
       "      <td>...</td>\n",
       "    </tr>\n",
       "    <tr>\n",
       "      <th>37258</th>\n",
       "      <td>0.0</td>\n",
       "      <td>4447.0</td>\n",
       "      <td>2256.0</td>\n",
       "      <td>1248</td>\n",
       "      <td>55.32</td>\n",
       "      <td>4447.0</td>\n",
       "      <td>1078.0</td>\n",
       "      <td>565</td>\n",
       "      <td>52.41</td>\n",
       "    </tr>\n",
       "    <tr>\n",
       "      <th>37259</th>\n",
       "      <td>0.0</td>\n",
       "      <td>4447.0</td>\n",
       "      <td>2256.0</td>\n",
       "      <td>1248</td>\n",
       "      <td>55.32</td>\n",
       "      <td>4559.0</td>\n",
       "      <td>594.0</td>\n",
       "      <td>180</td>\n",
       "      <td>30.30</td>\n",
       "    </tr>\n",
       "    <tr>\n",
       "      <th>37260</th>\n",
       "      <td>0.0</td>\n",
       "      <td>4447.0</td>\n",
       "      <td>2256.0</td>\n",
       "      <td>1248</td>\n",
       "      <td>55.32</td>\n",
       "      <td>1869.0</td>\n",
       "      <td>76.0</td>\n",
       "      <td>57</td>\n",
       "      <td>75.00</td>\n",
       "    </tr>\n",
       "    <tr>\n",
       "      <th>37261</th>\n",
       "      <td>0.0</td>\n",
       "      <td>4447.0</td>\n",
       "      <td>2256.0</td>\n",
       "      <td>1248</td>\n",
       "      <td>55.32</td>\n",
       "      <td>114618.0</td>\n",
       "      <td>20678.0</td>\n",
       "      <td>9182</td>\n",
       "      <td>44.40</td>\n",
       "    </tr>\n",
       "    <tr>\n",
       "      <th>37262</th>\n",
       "      <td>0.0</td>\n",
       "      <td>4447.0</td>\n",
       "      <td>2256.0</td>\n",
       "      <td>1248</td>\n",
       "      <td>55.32</td>\n",
       "      <td>489650.0</td>\n",
       "      <td>82668.0</td>\n",
       "      <td>45466</td>\n",
       "      <td>55.00</td>\n",
       "    </tr>\n",
       "  </tbody>\n",
       "</table>\n",
       "<p>37263 rows × 9 columns</p>\n",
       "</div>"
      ],
      "text/plain": [
       "           SCode  Enroll12sat  NumTSTTakr12 TotNumBothBenchmark12  \\\n",
       "0       630046.0         18.0           0.0                   NaN   \n",
       "1       634758.0         29.0          10.0                     *   \n",
       "2      1930924.0        206.0         102.0                    14   \n",
       "3      1931476.0        227.0         113.0                    18   \n",
       "4      1931856.0         18.0          14.0                     *   \n",
       "...          ...          ...           ...                   ...   \n",
       "37258        0.0       4447.0        2256.0                  1248   \n",
       "37259        0.0       4447.0        2256.0                  1248   \n",
       "37260        0.0       4447.0        2256.0                  1248   \n",
       "37261        0.0       4447.0        2256.0                  1248   \n",
       "37262        0.0       4447.0        2256.0                  1248   \n",
       "\n",
       "      PctBothBenchmark12  Enroll12act  NumTstTakr NumGE21 PctGE21  \n",
       "0                    NaN         18.0         0.0     NaN     NaN  \n",
       "1                      *         29.0         0.0     NaN     NaN  \n",
       "2                  13.73        206.0        31.0       4   12.90  \n",
       "3                  15.93        227.0        32.0       9   28.13  \n",
       "4                      *         18.0         1.0       *       *  \n",
       "...                  ...          ...         ...     ...     ...  \n",
       "37258              55.32       4447.0      1078.0     565   52.41  \n",
       "37259              55.32       4559.0       594.0     180   30.30  \n",
       "37260              55.32       1869.0        76.0      57   75.00  \n",
       "37261              55.32     114618.0     20678.0    9182   44.40  \n",
       "37262              55.32     489650.0     82668.0   45466   55.00  \n",
       "\n",
       "[37263 rows x 9 columns]"
      ]
     },
     "execution_count": 9,
     "metadata": {},
     "output_type": "execute_result"
    }
   ],
   "source": [
    "ca.dropna(subset=['SCode'],axis=0)"
   ]
  },
  {
   "cell_type": "code",
   "execution_count": 10,
   "id": "d8c8463b-abae-40cb-abf2-f855c5746f69",
   "metadata": {},
   "outputs": [],
   "source": [
    "ca = ca[ca['SCode'] != 0]"
   ]
  },
  {
   "cell_type": "code",
   "execution_count": 11,
   "id": "96488bf6-6622-4591-b038-3bbe0799d0de",
   "metadata": {},
   "outputs": [
    {
     "name": "stdout",
     "output_type": "stream",
     "text": [
      "<class 'pandas.core.frame.DataFrame'>\n",
      "Int64Index: 2504 entries, 0 to 37785\n",
      "Data columns (total 9 columns):\n",
      " #   Column                 Non-Null Count  Dtype  \n",
      "---  ------                 --------------  -----  \n",
      " 0   SCode                  1981 non-null   float64\n",
      " 1   Enroll12sat            1981 non-null   float64\n",
      " 2   NumTSTTakr12           1981 non-null   float64\n",
      " 3   TotNumBothBenchmark12  1745 non-null   object \n",
      " 4   PctBothBenchmark12     1745 non-null   object \n",
      " 5   Enroll12act            2241 non-null   float64\n",
      " 6   NumTstTakr             2241 non-null   float64\n",
      " 7   NumGE21                1886 non-null   object \n",
      " 8   PctGE21                1886 non-null   object \n",
      "dtypes: float64(5), object(4)\n",
      "memory usage: 195.6+ KB\n"
     ]
    }
   ],
   "source": [
    "ca.info()"
   ]
  },
  {
   "cell_type": "code",
   "execution_count": 12,
   "id": "4745c2a2-f614-4006-88c6-57dfe13363a2",
   "metadata": {},
   "outputs": [
    {
     "name": "stdout",
     "output_type": "stream",
     "text": [
      "<class 'pandas.core.frame.DataFrame'>\n",
      "Int64Index: 1408 entries, 2 to 1980\n",
      "Data columns (total 9 columns):\n",
      " #   Column                 Non-Null Count  Dtype  \n",
      "---  ------                 --------------  -----  \n",
      " 0   SCode                  1408 non-null   float64\n",
      " 1   Enroll12sat            1408 non-null   float64\n",
      " 2   NumTSTTakr12           1408 non-null   float64\n",
      " 3   TotNumBothBenchmark12  1408 non-null   object \n",
      " 4   PctBothBenchmark12     1408 non-null   object \n",
      " 5   Enroll12act            1408 non-null   float64\n",
      " 6   NumTstTakr             1408 non-null   float64\n",
      " 7   NumGE21                1408 non-null   object \n",
      " 8   PctGE21                1408 non-null   object \n",
      "dtypes: float64(5), object(4)\n",
      "memory usage: 110.0+ KB\n"
     ]
    }
   ],
   "source": [
    "ca.dropna(how='any',axis=0,inplace=True)\n",
    "ca.info()"
   ]
  },
  {
   "cell_type": "code",
   "execution_count": 28,
   "id": "b9d71013-5e89-4b0b-b874-3fcadb378721",
   "metadata": {},
   "outputs": [],
   "source": [
    "ca['TotNumBothBenchmark12'] = pd.to_numeric(ca['TotNumBothBenchmark12'],errors='coerce')\n",
    "ca['PctBothBenchmark12'] = pd.to_numeric(ca['PctBothBenchmark12'],errors='coerce')\n",
    "ca['NumGE21'] = pd.to_numeric(ca['NumGE21'],errors='coerce')\n",
    "ca['PctGE21'] = pd.to_numeric(ca['PctGE21'],errors='coerce').astype('str').astype('float')"
   ]
  },
  {
   "cell_type": "code",
   "execution_count": 29,
   "id": "7b71012f-d56b-4585-9460-5cb5dcd6d801",
   "metadata": {},
   "outputs": [
    {
     "name": "stdout",
     "output_type": "stream",
     "text": [
      "<class 'pandas.core.frame.DataFrame'>\n",
      "Int64Index: 1408 entries, 2 to 1980\n",
      "Data columns (total 9 columns):\n",
      " #   Column                 Non-Null Count  Dtype  \n",
      "---  ------                 --------------  -----  \n",
      " 0   SCode                  1408 non-null   float64\n",
      " 1   Enroll12sat            1408 non-null   float64\n",
      " 2   NumTSTTakr12           1408 non-null   float64\n",
      " 3   TotNumBothBenchmark12  1215 non-null   float64\n",
      " 4   PctBothBenchmark12     1215 non-null   float64\n",
      " 5   Enroll12act            1408 non-null   float64\n",
      " 6   NumTstTakr             1408 non-null   float64\n",
      " 7   NumGE21                1009 non-null   float64\n",
      " 8   PctGE21                1009 non-null   float64\n",
      "dtypes: float64(9)\n",
      "memory usage: 110.0 KB\n"
     ]
    }
   ],
   "source": [
    "ca.info()"
   ]
  },
  {
   "cell_type": "code",
   "execution_count": 30,
   "id": "13d94a7a-3683-4c26-ab6e-1d05c615bf8c",
   "metadata": {},
   "outputs": [
    {
     "data": {
      "text/html": [
       "<div>\n",
       "<style scoped>\n",
       "    .dataframe tbody tr th:only-of-type {\n",
       "        vertical-align: middle;\n",
       "    }\n",
       "\n",
       "    .dataframe tbody tr th {\n",
       "        vertical-align: top;\n",
       "    }\n",
       "\n",
       "    .dataframe thead th {\n",
       "        text-align: right;\n",
       "    }\n",
       "</style>\n",
       "<table border=\"1\" class=\"dataframe\">\n",
       "  <thead>\n",
       "    <tr style=\"text-align: right;\">\n",
       "      <th></th>\n",
       "      <th>SCode</th>\n",
       "      <th>Enroll12sat</th>\n",
       "      <th>NumTSTTakr12</th>\n",
       "      <th>TotNumBothBenchmark12</th>\n",
       "      <th>PctBothBenchmark12</th>\n",
       "      <th>Enroll12act</th>\n",
       "      <th>NumTstTakr</th>\n",
       "      <th>NumGE21</th>\n",
       "      <th>PctGE21</th>\n",
       "    </tr>\n",
       "  </thead>\n",
       "  <tbody>\n",
       "    <tr>\n",
       "      <th>count</th>\n",
       "      <td>1.408000e+03</td>\n",
       "      <td>1408.000000</td>\n",
       "      <td>1408.000000</td>\n",
       "      <td>1215.000000</td>\n",
       "      <td>1215.000000</td>\n",
       "      <td>1408.000000</td>\n",
       "      <td>1408.000000</td>\n",
       "      <td>1009.000000</td>\n",
       "      <td>1009.000000</td>\n",
       "    </tr>\n",
       "    <tr>\n",
       "      <th>mean</th>\n",
       "      <td>2.130154e+06</td>\n",
       "      <td>299.460227</td>\n",
       "      <td>118.544034</td>\n",
       "      <td>62.701235</td>\n",
       "      <td>42.968749</td>\n",
       "      <td>299.460227</td>\n",
       "      <td>58.503551</td>\n",
       "      <td>43.947473</td>\n",
       "      <td>51.541556</td>\n",
       "    </tr>\n",
       "    <tr>\n",
       "      <th>std</th>\n",
       "      <td>1.811919e+06</td>\n",
       "      <td>218.889567</td>\n",
       "      <td>108.528247</td>\n",
       "      <td>61.626035</td>\n",
       "      <td>23.348236</td>\n",
       "      <td>218.889567</td>\n",
       "      <td>65.601498</td>\n",
       "      <td>50.174974</td>\n",
       "      <td>26.394866</td>\n",
       "    </tr>\n",
       "    <tr>\n",
       "      <th>min</th>\n",
       "      <td>1.000650e+05</td>\n",
       "      <td>3.000000</td>\n",
       "      <td>1.000000</td>\n",
       "      <td>0.000000</td>\n",
       "      <td>0.000000</td>\n",
       "      <td>3.000000</td>\n",
       "      <td>1.000000</td>\n",
       "      <td>0.000000</td>\n",
       "      <td>0.000000</td>\n",
       "    </tr>\n",
       "    <tr>\n",
       "      <th>25%</th>\n",
       "      <td>1.267415e+05</td>\n",
       "      <td>100.000000</td>\n",
       "      <td>38.000000</td>\n",
       "      <td>16.000000</td>\n",
       "      <td>23.485000</td>\n",
       "      <td>100.000000</td>\n",
       "      <td>12.000000</td>\n",
       "      <td>12.000000</td>\n",
       "      <td>28.570000</td>\n",
       "    </tr>\n",
       "    <tr>\n",
       "      <th>50%</th>\n",
       "      <td>1.935783e+06</td>\n",
       "      <td>268.000000</td>\n",
       "      <td>92.000000</td>\n",
       "      <td>41.000000</td>\n",
       "      <td>40.590000</td>\n",
       "      <td>268.000000</td>\n",
       "      <td>38.000000</td>\n",
       "      <td>25.000000</td>\n",
       "      <td>52.940000</td>\n",
       "    </tr>\n",
       "    <tr>\n",
       "      <th>75%</th>\n",
       "      <td>3.634247e+06</td>\n",
       "      <td>471.000000</td>\n",
       "      <td>173.000000</td>\n",
       "      <td>90.000000</td>\n",
       "      <td>61.540000</td>\n",
       "      <td>471.000000</td>\n",
       "      <td>84.000000</td>\n",
       "      <td>55.000000</td>\n",
       "      <td>75.000000</td>\n",
       "    </tr>\n",
       "    <tr>\n",
       "      <th>max</th>\n",
       "      <td>6.120893e+06</td>\n",
       "      <td>1135.000000</td>\n",
       "      <td>932.000000</td>\n",
       "      <td>385.000000</td>\n",
       "      <td>100.000000</td>\n",
       "      <td>1135.000000</td>\n",
       "      <td>512.000000</td>\n",
       "      <td>392.000000</td>\n",
       "      <td>100.000000</td>\n",
       "    </tr>\n",
       "  </tbody>\n",
       "</table>\n",
       "</div>"
      ],
      "text/plain": [
       "              SCode  Enroll12sat  NumTSTTakr12  TotNumBothBenchmark12  \\\n",
       "count  1.408000e+03  1408.000000   1408.000000            1215.000000   \n",
       "mean   2.130154e+06   299.460227    118.544034              62.701235   \n",
       "std    1.811919e+06   218.889567    108.528247              61.626035   \n",
       "min    1.000650e+05     3.000000      1.000000               0.000000   \n",
       "25%    1.267415e+05   100.000000     38.000000              16.000000   \n",
       "50%    1.935783e+06   268.000000     92.000000              41.000000   \n",
       "75%    3.634247e+06   471.000000    173.000000              90.000000   \n",
       "max    6.120893e+06  1135.000000    932.000000             385.000000   \n",
       "\n",
       "       PctBothBenchmark12  Enroll12act   NumTstTakr      NumGE21      PctGE21  \n",
       "count         1215.000000  1408.000000  1408.000000  1009.000000  1009.000000  \n",
       "mean            42.968749   299.460227    58.503551    43.947473    51.541556  \n",
       "std             23.348236   218.889567    65.601498    50.174974    26.394866  \n",
       "min              0.000000     3.000000     1.000000     0.000000     0.000000  \n",
       "25%             23.485000   100.000000    12.000000    12.000000    28.570000  \n",
       "50%             40.590000   268.000000    38.000000    25.000000    52.940000  \n",
       "75%             61.540000   471.000000    84.000000    55.000000    75.000000  \n",
       "max            100.000000  1135.000000   512.000000   392.000000   100.000000  "
      ]
     },
     "execution_count": 30,
     "metadata": {},
     "output_type": "execute_result"
    }
   ],
   "source": [
    "ca.describe()"
   ]
  },
  {
   "cell_type": "code",
   "execution_count": 37,
   "id": "d861d566-eeab-4a29-af83-853be7a50f3c",
   "metadata": {},
   "outputs": [
    {
     "data": {
      "text/plain": [
       "<matplotlib.legend.Legend at 0x1d00e73bf40>"
      ]
     },
     "execution_count": 37,
     "metadata": {},
     "output_type": "execute_result"
    },
    {
     "data": {
      "image/png": "[encoded data removed]",
      "text/plain": [
       "<Figure size 640x480 with 1 Axes>"
      ]
     },
     "metadata": {},
     "output_type": "display_data"
    }
   ],
   "source": [
    "ca['PctBothBenchmark12'].hist(alpha=0.5,label='SAT')\n",
    "ca['PctGE21'].hist(alpha=0.5,label='ACT')\n",
    "plt.legend()"
   ]
  },
  {
   "cell_type": "code",
   "execution_count": 32,
   "id": "b302d944-a6ca-4c2a-a56b-1d0e2bdefdc0",
   "metadata": {},
   "outputs": [
    {
     "data": {
      "text/plain": [
       "<matplotlib.collections.PathCollection at 0x1d008083f70>"
      ]
     },
     "execution_count": 32,
     "metadata": {},
     "output_type": "execute_result"
    },
    {
     "data": {
      "image/png": "[encoded data removed]",
      "text/plain": [
       "<Figure size 640x480 with 1 Axes>"
      ]
     },
     "metadata": {},
     "output_type": "display_data"
    }
   ],
   "source": [
    "plt.scatter(x=ca['PctBothBenchmark12'],y=ca['PctGE21'])"
   ]
  },
  {
   "cell_type": "code",
   "execution_count": null,
   "id": "4825f3fe-8997-435d-9d80-7d0505c8b276",
   "metadata": {},
   "outputs": [],
   "source": []
  },
  {
   "cell_type": "markdown",
   "id": "0ca91166-c674-423d-9d0f-75a77152d565",
   "metadata": {},
   "source": [
    "# Schools that Focus on ACT"
   ]
  },
  {
   "cell_type": "code",
   "execution_count": null,
   "id": "0cb666cc-a649-4de9-ac60-662466327e16",
   "metadata": {},
   "outputs": [],
   "source": []
  },
  {
   "cell_type": "code",
   "execution_count": 38,
   "id": "7dccd41f-ae67-4e7c-a05a-f1ca8d915976",
   "metadata": {},
   "outputs": [],
   "source": [
    "ca_act_schools = ca[ca['NumGE21'] > ca['NumTSTTakr12']]"
   ]
  },
  {
   "cell_type": "code",
   "execution_count": 39,
   "id": "eae20317-7715-491a-b460-edeb31e5a4be",
   "metadata": {},
   "outputs": [
    {
     "data": {
      "text/html": [
       "<div>\n",
       "<style scoped>\n",
       "    .dataframe tbody tr th:only-of-type {\n",
       "        vertical-align: middle;\n",
       "    }\n",
       "\n",
       "    .dataframe tbody tr th {\n",
       "        vertical-align: top;\n",
       "    }\n",
       "\n",
       "    .dataframe thead th {\n",
       "        text-align: right;\n",
       "    }\n",
       "</style>\n",
       "<table border=\"1\" class=\"dataframe\">\n",
       "  <thead>\n",
       "    <tr style=\"text-align: right;\">\n",
       "      <th></th>\n",
       "      <th>SCode</th>\n",
       "      <th>Enroll12sat</th>\n",
       "      <th>NumTSTTakr12</th>\n",
       "      <th>TotNumBothBenchmark12</th>\n",
       "      <th>PctBothBenchmark12</th>\n",
       "      <th>Enroll12act</th>\n",
       "      <th>NumTstTakr</th>\n",
       "      <th>NumGE21</th>\n",
       "      <th>PctGE21</th>\n",
       "    </tr>\n",
       "  </thead>\n",
       "  <tbody>\n",
       "    <tr>\n",
       "      <th>count</th>\n",
       "      <td>4.400000e+01</td>\n",
       "      <td>44.000000</td>\n",
       "      <td>44.000000</td>\n",
       "      <td>36.000000</td>\n",
       "      <td>36.000000</td>\n",
       "      <td>44.000000</td>\n",
       "      <td>44.000000</td>\n",
       "      <td>44.000000</td>\n",
       "      <td>44.000000</td>\n",
       "    </tr>\n",
       "    <tr>\n",
       "      <th>mean</th>\n",
       "      <td>2.144392e+06</td>\n",
       "      <td>379.863636</td>\n",
       "      <td>113.931818</td>\n",
       "      <td>114.500000</td>\n",
       "      <td>79.310556</td>\n",
       "      <td>379.863636</td>\n",
       "      <td>179.681818</td>\n",
       "      <td>146.068182</td>\n",
       "      <td>73.312500</td>\n",
       "    </tr>\n",
       "    <tr>\n",
       "      <th>std</th>\n",
       "      <td>1.818546e+06</td>\n",
       "      <td>235.432960</td>\n",
       "      <td>80.112827</td>\n",
       "      <td>61.578521</td>\n",
       "      <td>14.729897</td>\n",
       "      <td>235.432960</td>\n",
       "      <td>93.923465</td>\n",
       "      <td>97.969477</td>\n",
       "      <td>27.432443</td>\n",
       "    </tr>\n",
       "    <tr>\n",
       "      <th>min</th>\n",
       "      <td>1.016830e+05</td>\n",
       "      <td>18.000000</td>\n",
       "      <td>1.000000</td>\n",
       "      <td>8.000000</td>\n",
       "      <td>27.590000</td>\n",
       "      <td>18.000000</td>\n",
       "      <td>15.000000</td>\n",
       "      <td>4.000000</td>\n",
       "      <td>12.120000</td>\n",
       "    </tr>\n",
       "    <tr>\n",
       "      <th>25%</th>\n",
       "      <td>1.310158e+05</td>\n",
       "      <td>149.000000</td>\n",
       "      <td>29.750000</td>\n",
       "      <td>74.500000</td>\n",
       "      <td>77.950000</td>\n",
       "      <td>149.000000</td>\n",
       "      <td>119.000000</td>\n",
       "      <td>55.500000</td>\n",
       "      <td>60.495000</td>\n",
       "    </tr>\n",
       "    <tr>\n",
       "      <th>50%</th>\n",
       "      <td>2.265980e+06</td>\n",
       "      <td>397.000000</td>\n",
       "      <td>119.500000</td>\n",
       "      <td>117.000000</td>\n",
       "      <td>81.610000</td>\n",
       "      <td>397.000000</td>\n",
       "      <td>168.500000</td>\n",
       "      <td>150.000000</td>\n",
       "      <td>87.675000</td>\n",
       "    </tr>\n",
       "    <tr>\n",
       "      <th>75%</th>\n",
       "      <td>3.730276e+06</td>\n",
       "      <td>586.500000</td>\n",
       "      <td>180.000000</td>\n",
       "      <td>159.000000</td>\n",
       "      <td>88.345000</td>\n",
       "      <td>586.500000</td>\n",
       "      <td>239.750000</td>\n",
       "      <td>206.250000</td>\n",
       "      <td>91.882500</td>\n",
       "    </tr>\n",
       "    <tr>\n",
       "      <th>max</th>\n",
       "      <td>5.337456e+06</td>\n",
       "      <td>808.000000</td>\n",
       "      <td>270.000000</td>\n",
       "      <td>244.000000</td>\n",
       "      <td>96.950000</td>\n",
       "      <td>808.000000</td>\n",
       "      <td>409.000000</td>\n",
       "      <td>392.000000</td>\n",
       "      <td>97.300000</td>\n",
       "    </tr>\n",
       "  </tbody>\n",
       "</table>\n",
       "</div>"
      ],
      "text/plain": [
       "              SCode  Enroll12sat  NumTSTTakr12  TotNumBothBenchmark12  \\\n",
       "count  4.400000e+01    44.000000     44.000000              36.000000   \n",
       "mean   2.144392e+06   379.863636    113.931818             114.500000   \n",
       "std    1.818546e+06   235.432960     80.112827              61.578521   \n",
       "min    1.016830e+05    18.000000      1.000000               8.000000   \n",
       "25%    1.310158e+05   149.000000     29.750000              74.500000   \n",
       "50%    2.265980e+06   397.000000    119.500000             117.000000   \n",
       "75%    3.730276e+06   586.500000    180.000000             159.000000   \n",
       "max    5.337456e+06   808.000000    270.000000             244.000000   \n",
       "\n",
       "       PctBothBenchmark12  Enroll12act  NumTstTakr     NumGE21    PctGE21  \n",
       "count           36.000000    44.000000   44.000000   44.000000  44.000000  \n",
       "mean            79.310556   379.863636  179.681818  146.068182  73.312500  \n",
       "std             14.729897   235.432960   93.923465   97.969477  27.432443  \n",
       "min             27.590000    18.000000   15.000000    4.000000  12.120000  \n",
       "25%             77.950000   149.000000  119.000000   55.500000  60.495000  \n",
       "50%             81.610000   397.000000  168.500000  150.000000  87.675000  \n",
       "75%             88.345000   586.500000  239.750000  206.250000  91.882500  \n",
       "max             96.950000   808.000000  409.000000  392.000000  97.300000  "
      ]
     },
     "execution_count": 39,
     "metadata": {},
     "output_type": "execute_result"
    }
   ],
   "source": [
    "ca_act_schools.describe()"
   ]
  },
  {
   "cell_type": "code",
   "execution_count": 40,
   "id": "fce2625a-4ac8-4564-b666-dd5a698461ab",
   "metadata": {},
   "outputs": [
    {
     "data": {
      "text/plain": [
       "<matplotlib.collections.PathCollection at 0x1d00e667490>"
      ]
     },
     "execution_count": 40,
     "metadata": {},
     "output_type": "execute_result"
    },
    {
     "data": {
      "image/png": "[encoded data removed]",
      "text/plain": [
       "<Figure size 640x480 with 1 Axes>"
      ]
     },
     "metadata": {},
     "output_type": "display_data"
    }
   ],
   "source": [
    "plt.scatter(x=ca['PctBothBenchmark12'],y=ca['PctGE21'])"
   ]
  },
  {
   "cell_type": "code",
   "execution_count": null,
   "id": "ac8b1ae9-3e06-4709-8b32-0f549c599936",
   "metadata": {},
   "outputs": [],
   "source": []
  },
  {
   "cell_type": "code",
   "execution_count": null,
   "id": "731377da-09d7-4079-a25d-c833e3f160ba",
   "metadata": {},
   "outputs": [],
   "source": []
  },
  {
   "cell_type": "code",
   "execution_count": null,
   "id": "8f8e055e-7990-428d-a0d6-79bc33ccec87",
   "metadata": {},
   "outputs": [],
   "source": []
  },
  {
   "cell_type": "code",
   "execution_count": null,
   "id": "18b477a1-52e4-4ec0-94ae-24a0e6718dbb",
   "metadata": {},
   "outputs": [],
   "source": []
  }
 ],
 "metadata": {
  "kernelspec": {
   "display_name": "Python 3 (ipykernel)",
   "language": "python",
   "name": "python3"
  },
  "language_info": {
   "codemirror_mode": {
    "name": "ipython",
    "version": 3
   },
   "file_extension": ".py",
   "mimetype": "text/x-python",
   "name": "python",
   "nbconvert_exporter": "python",
   "pygments_lexer": "ipython3",
   "version": "3.9.13"
  }
 },
 "nbformat": 4,
 "nbformat_minor": 5
}
